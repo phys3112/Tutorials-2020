{
 "cells": [
  {
   "cell_type": "markdown",
   "metadata": {},
   "source": [
    "## Tutorial 6; Time and Space ##\n",
    "In this tutorial, we are going to deal with systems that vary simultaneously in space and time. This requires a bit more effort than our simply spatially varying systems. We are going to solve the heat equation using two methods:\n",
    "1. Individual time and space stepping.\n",
    "2. The Crank-Nicholson method.\n",
    "\n",
    "Please refer to lecture and tutorial slides for the derivation of the matrices we are going to use."
   ]
  },
  {
   "cell_type": "code",
   "execution_count": 78,
   "metadata": {},
   "outputs": [],
   "source": [
    "import numpy as np\n",
    "from matplotlib import pyplot as plt"
   ]
  },
  {
   "cell_type": "code",
   "execution_count": 79,
   "metadata": {},
   "outputs": [],
   "source": [
    "# This time, we are going to have our tri-diagonal-matrix creator as a function, so we don't have to copy paste it!\n",
    "def TriD(nodes, r=False):\n",
    "    # I have modified this to include an 'r' term, which is necessary for our CN method.\n",
    "    # If you don't pass the 'r' to the function, it takes it as false and does the usual 1, -2, 1 matrix. \n",
    "    if not r:\n",
    "        # Create our scaling Tri-Diagonal matrix; we know the format is [zeros] 1, -2, 1 [zeros]\n",
    "        TriD_Matrix = np.zeros((nodes,nodes)) # Create an empty matrix to begin with\n",
    "        for i in range(nodes):\n",
    "            # We are going to construct our matrix row by row\n",
    "            # we know it's mostly zeros, so let's start with a row of zeros\n",
    "            Blank_row = np.zeros(nodes)\n",
    "            # We can then replace the relevant segment of the blank row with 1 or -2 as required:\n",
    "            if i == 0:\n",
    "                #This is our first row, only a -2, 1 before the zeros\n",
    "                Blank_row[i] = -2\n",
    "                Blank_row[i+1] = 1\n",
    "            elif i == nodes-1:\n",
    "                #This is our last row; only zeros, then 1, -2\n",
    "                Blank_row[i-1] = 1\n",
    "                Blank_row[i] = -2\n",
    "            else:\n",
    "                #These are our middle rows, zeros on either side and then 1, -2, 1\n",
    "                Blank_row[i-1] = 1\n",
    "                Blank_row[i] = -2\n",
    "                Blank_row[i+1] = 1\n",
    "\n",
    "            # Put this newly generated row in our matrix\n",
    "            TriD_Matrix[i,:] = Blank_row\n",
    "    else:\n",
    "        # Create our scaling Tri-Diagonal matrix; we know the format is [zeros] -r, 1+2r, -r [zeros]\n",
    "        TriD_Matrix = np.zeros((nodes,nodes)) # Create an empty matrix to begin with\n",
    "        for i in range(nodes):\n",
    "            # We are going to construct our matrix row by row\n",
    "            # we know it's mostly zeros, so let's start with a row of zeros\n",
    "            Blank_row = np.zeros(nodes)\n",
    "            # We can then replace the relevant segment of the blank row with 1 or -2 as required:\n",
    "            if i == 0:\n",
    "                #This is our first row, only a -2, 1 before the zeros\n",
    "                Blank_row[i] = 1+2*r\n",
    "                Blank_row[i+1] = -1*r\n",
    "            elif i == nodes-1:\n",
    "                #This is our last row; only zeros, then 1, -2\n",
    "                Blank_row[i-1] = -1*r\n",
    "                Blank_row[i] = 1+2*r\n",
    "            else:\n",
    "                #These are our middle rows, zeros on either side and then 1, -2, 1\n",
    "                Blank_row[i-1] = -1*r\n",
    "                Blank_row[i] = 1+2*r\n",
    "                Blank_row[i+1] = -1*r\n",
    "\n",
    "            # Put this newly generated row in our matrix\n",
    "            TriD_Matrix[i,:] = Blank_row\n",
    "\n",
    "    return TriD_Matrix"
   ]
  },
  {
   "cell_type": "code",
   "execution_count": 80,
   "metadata": {},
   "outputs": [
    {
     "name": "stdout",
     "output_type": "stream",
     "text": [
      "Scale term is too small!: It is 0.010\n"
     ]
    },
    {
     "data": {
      "text/plain": [
       "Text(0.5, 1.0, 'Final temp distribution after 1.00 seconds')"
      ]
     },
     "execution_count": 80,
     "metadata": {},
     "output_type": "execute_result"
    },
    {
     "data": {
      "image/png": "[encoded data removed]",
      "text/plain": [
       "<Figure size 432x288 with 1 Axes>"
      ]
     },
     "metadata": {
      "needs_background": "light"
     },
     "output_type": "display_data"
    }
   ],
   "source": [
    "## An implmenentation of the straight forward space-then-time stepping method.\n",
    "\n",
    "nodes = 10\n",
    "timestep = 0.01\n",
    "length = 10\n",
    "duration = 1 # second\n",
    "\n",
    "a = length/nodes\n",
    "Trid_Mat = TriD(nodes)\n",
    "\n",
    "alpha = 1 # Heat transfer coefficient\n",
    "\n",
    "\n",
    "# Create our vector of initial temperatures\n",
    "T_init = np.zeros(nodes)\n",
    "T_init[0] = 100 # Just putting the edge to be 100 degrees (at the moment)\n",
    "\n",
    "scale_term = alpha * timestep / (a**2)\n",
    "# Our scale term needs to be much much smaller than 1 or we might get some instability!\n",
    "if scale_term < 0.01:\n",
    "    print(\"Scale term is OK: %.3f\" % scale_term)\n",
    "else:\n",
    "    print(\"Scale term is too small!: It is %.3f\" % scale_term)\n",
    "    \n",
    "num_timesteps = int(duration//timestep)\n",
    "\n",
    "T = np.zeros(nodes)\n",
    "for i in range(num_timesteps):\n",
    "    if i == 0:\n",
    "        # This is our initial condition, so we will use T_init\n",
    "        T = T_init\n",
    "    else:\n",
    "        T = T + scale_term*np.matmul(Trid_Mat,T)\n",
    "\n",
    "# Let's generate an x-vector to plot as our x axis:\n",
    "x_vec = np.arange(nodes)*a\n",
    "        \n",
    "plt.plot(x_vec,T)\n",
    "plt.xlabel('Position, m')\n",
    "plt.ylabel('Temperature')\n",
    "plt.title('Final temp distribution after %.2f seconds' % duration)"
   ]
  },
  {
   "cell_type": "code",
   "execution_count": 81,
   "metadata": {},
   "outputs": [
    {
     "data": {
      "text/plain": [
       "Text(0.5, 1.0, 'Final temp distribution after 1.00 seconds')"
      ]
     },
     "execution_count": 81,
     "metadata": {},
     "output_type": "execute_result"
    },
    {
     "data": {
      "image/png": "[encoded data removed]",
      "text/plain": [
       "<Figure size 432x288 with 1 Axes>"
      ]
     },
     "metadata": {
      "needs_background": "light"
     },
     "output_type": "display_data"
    }
   ],
   "source": [
    "## An implementation of the Crank-Nicolson Method\n",
    "\n",
    "# Copying the same simulation / initial conditions as last time\n",
    "nodes = 10\n",
    "timestep = 0.01\n",
    "length = 10\n",
    "duration = 1 # second\n",
    "\n",
    "a = length/nodes\n",
    "Trid_Mat = TriD(nodes)\n",
    "\n",
    "alpha = 1 # Heat transfer coefficient\n",
    "\n",
    "# Create our vector of initial temperatures\n",
    "T_init = np.zeros(nodes)\n",
    "T_init[0] = 100 # Just putting the edge to be 100 degrees (at the moment)\n",
    "\n",
    "# The CN method has two matrices, which I will call the front and back matrices\n",
    "# They are generated by passing an 'r' parameter to them\n",
    "# My function is set up so it generates the front matrix, but if you pass -1*r to the function it will give the back matrix\n",
    "r = (alpha*timestep)/(2*a**2)\n",
    "\n",
    "front_mat = TriD(nodes,r)\n",
    "back_mat = TriD(nodes, -1*r)\n",
    "#print(front_mat)\n",
    "#print(back_mat)\n",
    "# We can now solve the CN method:\n",
    "num_timesteps = int(duration//timestep)\n",
    "\n",
    "# I am still using conventional matrix inversion, which is HORRIFYINGLY INEFFICIENT!\n",
    "T = np.zeros(nodes)\n",
    "for i in range(num_timesteps):\n",
    "    if i == 0:\n",
    "        # This is our initial condition, so we will use T_init\n",
    "        T = T_init\n",
    "    else:\n",
    "        B = np.matmul(back_mat,T)\n",
    "        T = np.linalg.solve(front_mat,B)\n",
    "        \n",
    "# Let's generate an x-vector to plot as our x axis:\n",
    "x_vec = np.arange(nodes)*a\n",
    "        \n",
    "plt.plot(x_vec,T)\n",
    "plt.xlabel('Position, m')\n",
    "plt.ylabel('Temperature')\n",
    "plt.title('Final temp distribution after %.2f seconds' % duration)"
   ]
  },
  {
   "cell_type": "markdown",
   "metadata": {},
   "source": [
    "**Beginner Task**\n",
    "1. Have a play around with the implementations above. Find out what discretisation errors are possible (eg poor step sizes in either time or space), and what happens to the solution for each implementation when you go to far. You should find that the CN method is more stable.\n",
    "2. Decide on your own initial conditions for a sample, and propagate it forward for a certain amount of time. "
   ]
  },
  {
   "cell_type": "markdown",
   "metadata": {},
   "source": [
    "**Intermediate Task**:\n",
    "1. Modify one of the implemementations above to record all values for T across all timesteps, and generate a 2D plot.\n",
    "1. For the implementation you have done above, determine **when** the system reaches a thermal equilibrium."
   ]
  },
  {
   "cell_type": "markdown",
   "metadata": {},
   "source": [
    "**Advanced Task**: \n",
    "1. Determine how to put non-zero boundary conditions our CN equation (i.e. no longer having T0 = T[-1] = 0 in the original derivation). Note that as these BCs exist outside the simulation domain, they **should not change over time**.\n",
    "2. Implement the boundary conditions of T0 = 100, T[-1] = 0, and find the equilibrium value.\n"
   ]
  },
  {
   "cell_type": "code",
   "execution_count": null,
   "metadata": {},
   "outputs": [],
   "source": []
  }
 ],
 "metadata": {
  "kernelspec": {
   "display_name": "Python 3",
   "language": "python",
   "name": "python3"
  },
  "language_info": {
   "codemirror_mode": {
    "name": "ipython",
    "version": 3
   },
   "file_extension": ".py",
   "mimetype": "text/x-python",
   "name": "python",
   "nbconvert_exporter": "python",
   "pygments_lexer": "ipython3",
   "version": "3.7.4"
  }
 },
 "nbformat": 4,
 "nbformat_minor": 2
}
