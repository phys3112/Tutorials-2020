{
 "cells": [
  {
   "cell_type": "markdown",
   "metadata": {},
   "source": [
    "# Tutorial 2 - ADCs and Random Numbers\n",
    "2nd April 2019\n",
    "\n",
    "In this tutorial, we are going to cover two unrelated concepts that are too small to warrant their own tutorial; Analogue-to-Digital Converters (ADCs) and Random Number Generators."
   ]
  },
  {
   "cell_type": "markdown",
   "metadata": {},
   "source": [
    "## Analogue to Digital Converters\n",
    "We have seen these before in some of your labs! They take a continuous analogue signal and convert it into a discretised, digital signal. We will be looking at them from a software side - there is, of course, some level of ADC needed anytime you read a real signal into a digital display device (eg Multimeter).\n"
   ]
  },
  {
   "cell_type": "code",
   "execution_count": 1,
   "metadata": {},
   "outputs": [],
   "source": [
    "import numpy as np\n",
    "import time\n",
    "from matplotlib import pyplot as plt"
   ]
  },
  {
   "cell_type": "code",
   "execution_count": 2,
   "metadata": {},
   "outputs": [],
   "source": [
    "def find_nearest(array, value):\n",
    "    # A helper function that returns the closest value in 'array' to the input 'value'\n",
    "    array = np.asarray(array)\n",
    "    idx = (np.abs(array - value)).argmin()\n",
    "    return array[idx]\n",
    "\n",
    "# Making our adc function! This is not the most efficient way of doing it, but I hope it's easier to understand.\n",
    "def adc1(signal, num_bits, input_range):\n",
    "    # A function to digitise an analogue signal\n",
    "        # Signal is a list or 1D array of all the values\n",
    "        # num_bitsis the number of bits (1s or zeros) we will have in our ADC\n",
    "        # input_range is the range of inputs we will allow, as a tuple (min, max)\n",
    "    \n",
    "    # Extract the min and max values from the input range\n",
    "    sig_min, sig_max = input_range\n",
    "    # Generate the discrete levels that our ADC is going to map the real signal to\n",
    "    disc_levels = np.linspace(sig_min, sig_max, 2**num_bits)\n",
    "    \n",
    "    # For each element in the signal, match it to the closest discrete level:\n",
    "    out = list() # Create an empty output array\n",
    "    for i in signal:\n",
    "        out.append(find_nearest(disc_levels,i))\n",
    "        \n",
    "    return out\n",
    "    \n"
   ]
  },
  {
   "cell_type": "code",
   "execution_count": 8,
   "metadata": {},
   "outputs": [
    {
     "data": {
      "text/plain": [
       "<matplotlib.legend.Legend at 0x1c9125dfc50>"
      ]
     },
     "execution_count": 8,
     "metadata": {},
     "output_type": "execute_result"
    },
    {
     "data": {
      "image/png": "[encoded data removed]",
      "text/plain": [
       "<Figure size 432x288 with 1 Axes>"
      ]
     },
     "metadata": {},
     "output_type": "display_data"
    }
   ],
   "source": [
    "# We have made a BASIC digitiser - check it out above.\n",
    "# Let's test it out using a sinusoid\n",
    "samples = 1000\n",
    "timebase = np.arange(0, 2*np.pi, 2*np.pi/samples)\n",
    "signal = np.sin(timebase)\n",
    "plt.plot(signal)\n",
    "\n",
    "# The parameters of our ADC\n",
    "bit_depth = 8 #How many bits are we using to encode our signal values?\n",
    "input_range = (-100,100) #What range of input will we expect?\n",
    "plt.plot(adc1(signal, bit_depth, input_range))\n",
    "plt.legend([\"Analogue Signal\", \"Digital Signal\"])\n"
   ]
  },
  {
   "cell_type": "markdown",
   "metadata": {},
   "source": [
    "**Homework:**\n",
    "1. Play around with the bit depth and the range - try poorly optimised values and see how that affects the digitised signal.\n",
    "2. Take a look at [Michael's Notes](https://github.com/phys3112/intro/blob/master/mcba3-analog-to-digital-conversion.ipynb) and modify the ADC to add noise to the signal - then also write something to average these noisy values into a 'smoother' digital output!"
   ]
  },
  {
   "cell_type": "markdown",
   "metadata": {},
   "source": [
    "## Random Number Generators\n",
    "This time, you're going to have to write your own random number generator!\n",
    "\n",
    "Typically your RNG (random number generator) will take the previous random number as an input.\n"
   ]
  },
  {
   "cell_type": "code",
   "execution_count": 26,
   "metadata": {},
   "outputs": [],
   "source": [
    "def crappy_random(current_value, seed, maximum):\n",
    "    # A crappy 'random number' generator that performs arbitrary maths on the most recent sample\n",
    "    # I keep changing this around but they all suck (for good reason)\n",
    "    return int(np.mod(((23)**current_value + 2), maximum))"
   ]
  },
  {
   "cell_type": "code",
   "execution_count": 27,
   "metadata": {},
   "outputs": [
    {
     "data": {
      "text/plain": [
       "[<matplotlib.lines.Line2D at 0x1c91283cd68>]"
      ]
     },
     "execution_count": 27,
     "metadata": {},
     "output_type": "execute_result"
    },
    {
     "data": {
      "image/png": "[encoded data removed]",
      "text/plain": [
       "<Figure size 432x288 with 1 Axes>"
      ]
     },
     "metadata": {},
     "output_type": "display_data"
    }
   ],
   "source": [
    "seed = time.time()\n",
    "maximum = 1000\n",
    "starter_value = 0\n",
    "\n",
    "#Let's make some junk random values!\n",
    "num_vals = 10\n",
    "vals = list()\n",
    "curr_val = 0\n",
    "for i in range(num_vals):\n",
    "    vals.append(curr_val)\n",
    "    curr_val = crappy_random(curr_val, seed, maximum)\n",
    "plt.plot(vals,'o')\n",
    "# Observe how quickly it 'stabilises' into a few certain values!!\n",
    "# Run it again and again for different seed times and see what occurs - this is a TERRIBLE RNG!"
   ]
  },
  {
   "cell_type": "markdown",
   "metadata": {},
   "source": [
    "**Homework**\n",
    "Write your own implementation of ANY random number generator. You may wish to take a look at [Michael's Notes](https://github.com/phys3112/intro/blob/master/mcba6-random-numbers.ipynb). The challenge here is to see how random your random number generator is; save the output to a file and attempt to compress it! If you can't reduce the file size, then you're doing a good job!"
   ]
  },
  {
   "cell_type": "code",
   "execution_count": null,
   "metadata": {},
   "outputs": [],
   "source": []
  }
 ],
 "metadata": {
  "kernelspec": {
   "display_name": "Python 3",
   "language": "python",
   "name": "python3"
  },
  "language_info": {
   "codemirror_mode": {
    "name": "ipython",
    "version": 3
   },
   "file_extension": ".py",
   "mimetype": "text/x-python",
   "name": "python",
   "nbconvert_exporter": "python",
   "pygments_lexer": "ipython3",
   "version": "3.6.5"
  }
 },
 "nbformat": 4,
 "nbformat_minor": 2
}
