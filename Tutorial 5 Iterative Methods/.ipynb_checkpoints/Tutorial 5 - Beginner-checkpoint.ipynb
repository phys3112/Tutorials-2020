{
 "cells": [
  {
   "cell_type": "markdown",
   "metadata": {},
   "source": [
    "## Phys3112 Tutorial 5 - Time Variance and Iterative Methods\n",
    "This is the *beginner* tutorial, where you will learn basic iterative structures in python (eg for loop, while loop) and then do some practice iterating across time and space. "
   ]
  },
  {
   "cell_type": "markdown",
   "metadata": {},
   "source": [
    "Iteration refers to repeating a similar procedure multiple times, with potential changes to the inputs of the procedure or a small part of the process. We are going to find that these are very suitable to finding solutions to systems with a spatial distribution, for example the something. We are going to begin by learning the basic iterative structures."
   ]
  },
  {
   "cell_type": "code",
   "execution_count": 26,
   "metadata": {},
   "outputs": [],
   "source": [
    "import numpy as np\n",
    "from matplotlib import pyplot as plt"
   ]
  },
  {
   "cell_type": "markdown",
   "metadata": {},
   "source": [
    "Step 1: For and While loops.\n",
    "\n",
    "Goal: become familiar with how a [For Loop](https://wiki.python.org/moin/ForLoop) and [While Loop](https://wiki.python.org/moin/WhileLoop) work"
   ]
  },
  {
   "cell_type": "code",
   "execution_count": 4,
   "metadata": {},
   "outputs": [
    {
     "name": "stdout",
     "output_type": "stream",
     "text": [
      "1\n",
      "2\n",
      "3\n",
      "4\n",
      "5\n",
      "6\n",
      "7\n",
      "8\n",
      "9\n",
      "10\n",
      "0\n",
      "1\n",
      "2\n",
      "3\n",
      "4\n",
      "5\n",
      "6\n",
      "7\n",
      "8\n",
      "9\n",
      "10\n",
      "11\n",
      "12\n",
      "13\n"
     ]
    }
   ],
   "source": [
    "## See links above and associate lecture for how a For and While loop work in theory.\n",
    "# A For loop will repeat sections of code FOR a certain amount of times.\n",
    "# In python, you need to give it an iterable (eg a list, a vector etc) that the loop will iterate through\n",
    "\n",
    "# Let's make a list of some numbers\n",
    "numbers = [1, 2, 3, 4, 5, 6, 7, 8, 9, 10]\n",
    "\n",
    "# Let's tell a for loop to list through the numbers and print them one by one\n",
    "for i in numbers:\n",
    "    print(i)\n",
    "\n",
    "# By writing for 'i' in numbers, we are telling the loop to go through the list 'numbers' one by one, and each time \n",
    "# the current number is stored in 'i'.\n",
    "\n",
    "# What about if we want a loop to execute X times? Then we do:\n",
    "max_times = 14\n",
    "for i in range(max_times):\n",
    "    # Do what you want\n",
    "    print(i)\n"
   ]
  },
  {
   "cell_type": "code",
   "execution_count": 18,
   "metadata": {},
   "outputs": [
    {
     "name": "stdout",
     "output_type": "stream",
     "text": [
      "0\n",
      "1\n",
      "2\n",
      "3\n",
      "4\n",
      "5\n",
      "6\n",
      "7\n",
      "8\n",
      "9\n",
      "10\n",
      "11\n",
      "12\n",
      "13\n"
     ]
    }
   ],
   "source": [
    "# A while loop funtions in a similar way, but it will iteratute until something is no-longer true\n",
    "# This is called the condition of the loop; make sure you ensure it will eventually be false, or your loop may continue forever\n",
    "\n",
    "# We can do a simple number-of-iterations like the above\n",
    "limit = 14\n",
    "i = 0\n",
    "while i < limit:\n",
    "    print(i)\n",
    "    i = i+1\n",
    "    "
   ]
  },
  {
   "cell_type": "code",
   "execution_count": 23,
   "metadata": {},
   "outputs": [
    {
     "name": "stdout",
     "output_type": "stream",
     "text": [
      "2\n",
      "4\n",
      "6\n",
      "8\n",
      "6\n",
      "10\n",
      "Odd number found! It was number 11 at position 6\n"
     ]
    }
   ],
   "source": [
    "# Or we could do something more interesting, like looping through an array until we find an odd number\n",
    "array_set = [2, 4, 6, 8, 6, 10, 11, 13]\n",
    "i = 0\n",
    "while np.mod(array_set[i],2) == 0:\n",
    "    print(array_set[i])\n",
    "    i = i+1\n",
    "print('Odd number found! It was number ' + str(array_set[i]) + \" at position \" + str(i))"
   ]
  },
  {
   "cell_type": "markdown",
   "metadata": {},
   "source": [
    "One of the more powerful things we can do with for and while loops is utilise their indexing; instead of just repeating code, we can direct them to take sequential inputs and produce sequential outputs."
   ]
  },
  {
   "cell_type": "code",
   "execution_count": 15,
   "metadata": {},
   "outputs": [
    {
     "name": "stdout",
     "output_type": "stream",
     "text": [
      "Element 0 of a is 1\n",
      "Element 0 of b is 6\n",
      "Element 1 of a is 2\n",
      "Element 1 of b is 7\n",
      "Element 2 of a is 3\n",
      "Element 2 of b is 8\n",
      "Element 3 of a is 4\n",
      "Element 3 of b is 9\n",
      "Element 4 of a is 5\n",
      "Element 4 of b is 10\n",
      "[7, 9, 11, 13, 15]\n",
      "1\n",
      "4\n",
      "25\n",
      "64\n",
      "81\n",
      "[False, True, False, True, False]\n"
     ]
    }
   ],
   "source": [
    "# Let's say we have two vectors, a and b\n",
    "a = [1, 2, 3, 4, 5]\n",
    "b = [6, 7, 8, 9, 10]\n",
    "\n",
    "# If we wanted to perform some element-wise operation on these vectors, we could use a for loop! \n",
    "# For example, adding them together\n",
    "c = list()\n",
    "\n",
    "# Here, we will need to generate an index that we are going to use.\n",
    "# We first tell our for loop how many times to iterate\n",
    "for i in range(len(a)):\n",
    "    # This loop will iterate as many times as 'a' has elements.\n",
    "    # But the variable 'i' now refers to our position in the vector! \n",
    "    print(\"Element \" + str(i) + \" of a is \" + str(a[i]))\n",
    "    print(\"Element \" + str(i) + \" of b is \" + str(b[i]))\n",
    "    # We are now able to use 'i' as an INDEX, that will point to a specific location in a or b\n",
    "    # So let's make our own add-together variable\n",
    "    c.append(a[i] + b[i])\n",
    "\n",
    "print(c)\n",
    "\n",
    "# Here's another example that squares everything in the list 'q'\n",
    "q = [1, 2, 5, 8 ,9]\n",
    "for i in q:\n",
    "    print(i**2)\n",
    "    \n",
    "# Here's another example that tells you if the number is divisible by 3\n",
    "p = [1, 3, 5, 9, 11]\n",
    "truth = list()\n",
    "for i in p:\n",
    "    if np.mod(i,3) == 0:\n",
    "        truth.append(True)\n",
    "    else:\n",
    "        truth.append(False)\n",
    "\n",
    "# Note that if we are iterating over only one list, we don't need to do indexing; we can just let 'i' directly be the value.\n",
    "print(truth)\n",
    "    "
   ]
  },
  {
   "cell_type": "markdown",
   "metadata": {},
   "source": [
    "But the even *more* powerful use of loops is performing iterative calculations on the data from previous results of the loop. As an example, let's calculate the fibbonaci sequence, which requires the previous two values to calculate the next value:"
   ]
  },
  {
   "cell_type": "code",
   "execution_count": 17,
   "metadata": {},
   "outputs": [
    {
     "name": "stdout",
     "output_type": "stream",
     "text": [
      "[1, 1, 2, 3, 5, 8, 13, 21, 34, 55, 89, 144, 233, 377, 610, 987, 1597, 2584, 4181, 6765, 10946, 17711, 28657, 46368, 75025, 121393, 196418, 317811, 514229, 832040, 1346269, 2178309, 3524578, 5702887, 9227465, 14930352, 24157817, 39088169, 63245986, 102334155, 165580141, 267914296, 433494437, 701408733, 1134903170, 1836311903, 2971215073, 4807526976, 7778742049, 12586269025, 20365011074, 32951280099, 53316291173, 86267571272, 139583862445, 225851433717, 365435296162, 591286729879, 956722026041, 1548008755920, 2504730781961, 4052739537881, 6557470319842, 10610209857723, 17167680177565, 27777890035288, 44945570212853, 72723460248141, 117669030460994, 190392490709135, 308061521170129, 498454011879264, 806515533049393, 1304969544928657, 2111485077978050, 3416454622906707, 5527939700884757, 8944394323791464, 14472334024676221, 23416728348467685, 37889062373143906, 61305790721611591, 99194853094755497, 160500643816367088, 259695496911122585, 420196140727489673, 679891637638612258, 1100087778366101931, 1779979416004714189, 2880067194370816120, 4660046610375530309, 7540113804746346429, 12200160415121876738, 19740274219868223167, 31940434634990099905, 51680708854858323072, 83621143489848422977, 135301852344706746049, 218922995834555169026, 354224848179261915075]\n"
     ]
    }
   ],
   "source": [
    "# Using a FOR loop, we will calculate the first N fibbonaci numbers\n",
    "N = 100\n",
    "fibbonaci = list()\n",
    "for i in range(N):\n",
    "    # We have to now have a boundary condition; the first two numbers are 1!\n",
    "    if i == 0 or i == 1:\n",
    "        fibbonaci.append(1)\n",
    "    else:\n",
    "        # We want to add the previous TWO numbers together\n",
    "        number = fibbonaci[i-1] + fibbonaci[i-2]\n",
    "        fibbonaci.append(number)\n",
    "print(fibbonaci)"
   ]
  },
  {
   "cell_type": "markdown",
   "metadata": {},
   "source": [
    "Finally, looping structures can be used to find array-like or matrix-like solutions to problems. For example, let's consider a harmonic potential U = kx^2; we can numerically evaluate this potential for a certain range using a for loop. \n",
    "\n",
    "To start to do this, we need to *make some decisions as to how our simulation is going to run*. These decisions are influence by, but technically independent from the physical problem we are modelling.\n",
    "\n",
    "In this case, we want to ask;\n",
    "1. What range of values should we evaluate U(x) for?\n",
    "2. What step size / number of steps for U(x) do we want to evaluate for?"
   ]
  },
  {
   "cell_type": "code",
   "execution_count": 29,
   "metadata": {},
   "outputs": [
    {
     "data": {
      "text/plain": [
       "[<matplotlib.lines.Line2D at 0x19fbfeb9390>]"
      ]
     },
     "execution_count": 29,
     "metadata": {},
     "output_type": "execute_result"
    },
    {
     "data": {
      "image/png": "[encoded data removed]",
      "text/plain": [
       "<Figure size 432x288 with 1 Axes>"
      ]
     },
     "metadata": {},
     "output_type": "display_data"
    }
   ],
   "source": [
    "# Set our simulation settings\n",
    "\n",
    "x_min = -100\n",
    "x_max = 100\n",
    "step_size = 1\n",
    "k = 0.01\n",
    "\n",
    "# Determine our input vector; the array of x positions that we will access during our for loop.\n",
    "# You always need to determine two of the following; range, number of points, step size.\n",
    "num_samples = (x_max-x_min)//step_size\n",
    "x_inputs = np.linspace(x_min, x_max, num_samples)\n",
    "\n",
    "output = list()\n",
    "for x in x_inputs:\n",
    "    output.append(k*x**2)\n",
    "    \n",
    "plt.plot(x_inputs, output)\n",
    "    \n"
   ]
  },
  {
   "cell_type": "markdown",
   "metadata": {},
   "source": [
    "The more interesting problems to think about are ones that do not have simple analytic solutions! We consider these in the advanced tutorial. We will also consider 2D problems. For now, have a play around with simulating solutions to simple numerical problems using for loops; find an equation on the internet and evaluate it for a bunch of positions."
   ]
  },
  {
   "cell_type": "code",
   "execution_count": null,
   "metadata": {},
   "outputs": [],
   "source": []
  }
 ],
 "metadata": {
  "kernelspec": {
   "display_name": "Python 3",
   "language": "python",
   "name": "python3"
  },
  "language_info": {
   "codemirror_mode": {
    "name": "ipython",
    "version": 3
   },
   "file_extension": ".py",
   "mimetype": "text/x-python",
   "name": "python",
   "nbconvert_exporter": "python",
   "pygments_lexer": "ipython3",
   "version": "3.6.5"
  }
 },
 "nbformat": 4,
 "nbformat_minor": 2
}
