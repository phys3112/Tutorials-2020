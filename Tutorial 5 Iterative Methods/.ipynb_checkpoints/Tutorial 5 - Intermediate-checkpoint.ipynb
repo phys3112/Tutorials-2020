{
 "cells": [
  {
   "cell_type": "markdown",
   "metadata": {},
   "source": [
    "This is an intermediate tutorial for Tute 5: time varying equations and iterative methods.\n",
    "This tutorial is solving a simple DE dx/dt = sin(wt)/w\n",
    "The majority of the difficulty is in finding the relationship between successive values for x(t), the so-called step function. This was completed in the tutorial powerpoint."
   ]
  },
  {
   "cell_type": "code",
   "execution_count": 12,
   "metadata": {},
   "outputs": [
    {
     "ename": "NameError",
     "evalue": "name 'plt' is not defined",
     "output_type": "error",
     "traceback": [
      "\u001b[1;31m---------------------------------------------------------------------------\u001b[0m",
      "\u001b[1;31mNameError\u001b[0m                                 Traceback (most recent call last)",
      "\u001b[1;32m<ipython-input-12-9c065bc83704>\u001b[0m in \u001b[0;36m<module>\u001b[1;34m()\u001b[0m\n\u001b[0;32m     26\u001b[0m \u001b[1;33m\u001b[0m\u001b[0m\n\u001b[0;32m     27\u001b[0m \u001b[1;31m# Plot our answer\u001b[0m\u001b[1;33m\u001b[0m\u001b[1;33m\u001b[0m\u001b[0m\n\u001b[1;32m---> 28\u001b[1;33m \u001b[0mplt\u001b[0m\u001b[1;33m.\u001b[0m\u001b[0mplot\u001b[0m\u001b[1;33m(\u001b[0m\u001b[0mt\u001b[0m\u001b[1;33m,\u001b[0m\u001b[0mx\u001b[0m\u001b[1;33m)\u001b[0m\u001b[1;33m\u001b[0m\u001b[0m\n\u001b[0m",
      "\u001b[1;31mNameError\u001b[0m: name 'plt' is not defined"
     ]
    }
   ],
   "source": [
    "import numpy as np\n",
    "from matplotlib import pyplot as plt\n",
    "#Begin by defining our range of t values\n",
    "t_min = 0\n",
    "t_max = 100\n",
    "t_step = 0.01 # Step size becomes very important here!\n",
    "\n",
    "# Set up our range of t values we're going to use\n",
    "num_t_values = int((t_max - t_min)//t_step)\n",
    "t = np.linspace(t_min, t_max, num_t_values)\n",
    "\n",
    "\n",
    "# Set up an empty array to put our values into\n",
    "x = np.zeros(num_t_values)\n",
    "\n",
    "# Iterate over our set of t_set time values, calculating their corresponsing x one at a tome\n",
    "w = 5\n",
    "x_init = 0 #our initial condition\n",
    "# We are using indexing here because we are going to be referencing two variables; x and t\n",
    "for i in range(num_t_values):\n",
    "    # We need an if-statement to catch the first case, because t(n-1) doesn't exist for n = 0!\n",
    "    if i == 0:\n",
    "        x[i] = x_init\n",
    "    else: \n",
    "        # Below is the step function we have calculated\n",
    "        x[i] = x[i-1] + np.sin(w*t[i])/w\n",
    "\n",
    "# Plot our answer\n",
    "plt.plot(t,x)"
   ]
  },
  {
   "cell_type": "code",
   "execution_count": null,
   "metadata": {},
   "outputs": [],
   "source": []
  }
 ],
 "metadata": {
  "kernelspec": {
   "display_name": "Python 3",
   "language": "python",
   "name": "python3"
  },
  "language_info": {
   "codemirror_mode": {
    "name": "ipython",
    "version": 3
   },
   "file_extension": ".py",
   "mimetype": "text/x-python",
   "name": "python",
   "nbconvert_exporter": "python",
   "pygments_lexer": "ipython3",
   "version": "3.6.5"
  }
 },
 "nbformat": 4,
 "nbformat_minor": 2
}
