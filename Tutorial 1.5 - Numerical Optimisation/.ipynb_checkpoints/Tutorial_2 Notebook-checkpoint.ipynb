{
 "cells": [
  {
   "cell_type": "markdown",
   "metadata": {},
   "source": [
    "## Optimisation and Minimization\n",
    "*Notebook for **Tutorial 2**, Phys3112 S1 2019*\n",
    "\n",
    "Try running the cells in this notebook and understanding them. "
   ]
  },
  {
   "cell_type": "code",
   "execution_count": 3,
   "metadata": {},
   "outputs": [],
   "source": [
    "import scipy.optimize\n",
    "import numpy as np\n",
    "import random\n",
    "from matplotlib import pyplot as plt"
   ]
  },
  {
   "cell_type": "markdown",
   "metadata": {},
   "source": [
    "# 1-D Brute force solver \n",
    "This is a simple brute force solver!\n",
    "We are going to find the minimum of a function by randomly guessing until we have found an acceptable point.\n",
    "Our function takes only one input (x) so this is a One Dimensional input problem. We also will only have one output."
   ]
  },
  {
   "cell_type": "code",
   "execution_count": 4,
   "metadata": {},
   "outputs": [],
   "source": [
    "# Define a function that we are going to try and mimize\n",
    "# Feel free to change this function around!\n",
    "def func_1(x):\n",
    "    return np.abs(-x**4 + 5*x**3 - 2*x**2 + 17*x - 10)"
   ]
  },
  {
   "cell_type": "code",
   "execution_count": 11,
   "metadata": {},
   "outputs": [
    {
     "name": "stdout",
     "output_type": "stream",
     "text": [
      "Acceptable solution found after 53780 iterations.\n",
      "Input of 0.5773723770672334 gives output of 0.00015445192809693253\n"
     ]
    }
   ],
   "source": [
    "# We will stop our search after finding this output or lower!\n",
    "threshold = 0.001\n",
    "# Our range of input values\n",
    "input_min = 0\n",
    "input_max = 10\n",
    "searching = True\n",
    "# Number of iterations we have tried (just so we can count them!)\n",
    "n_iter = 0\n",
    "# Number of iterations before we give up (important, so we don't have an infinite loop!)\n",
    "max_iter = 10000000\n",
    "\n",
    "# Our searching loop\n",
    "while searching:\n",
    "    n_iter += 1\n",
    "    # Get a random x to guess, within our range\n",
    "    x = random.uniform(input_min, input_max)\n",
    "    # Check if our guess gives us a 'good enough' value\n",
    "    if func_1(x) < threshold:\n",
    "        # Yay! We have an acceptable input.\n",
    "        searching = False\n",
    "        success = True\n",
    "    if n_iter >= max_iter:\n",
    "        searching = False\n",
    "        success = False\n",
    "    \n",
    "if success:\n",
    "    print('Acceptable solution found after ' + str(n_iter) + ' iterations.')\n",
    "    print('Input of ' + str(x) + ' gives output of ' + str(func_1(x)))\n",
    "else:\n",
    "     print('We were unable to find a suitable input!')   "
   ]
  },
  {
   "cell_type": "markdown",
   "metadata": {},
   "source": [
    "**Homework:**\n",
    "\n",
    "Modify the above code to return the best guess for x it had tried, if it didn't manage to find one that met the threshold!"
   ]
  },
  {
   "cell_type": "markdown",
   "metadata": {},
   "source": [
    "## 2-D Gradient Descent\n",
    "This code is a SUPER BASIC gradient descent. It 'looks around' it's current position, and steps to the best looking option. The purpose of this code is to show you the basic structure of a descent method - it is a pretty terrible implementation.\n",
    "\n",
    "The quality of implementation you can use depends on weather or not your function is differentiable, and how smooth the output regime is.\n"
   ]
  },
  {
   "cell_type": "code",
   "execution_count": 12,
   "metadata": {},
   "outputs": [],
   "source": [
    "# Define a new function that we will minimize. This one takes two inputs.\n",
    "def func_2(x):\n",
    "    # x is a variable with two values; x[0] is the first, and x[1] is the second.\n",
    "    return(x[0]**2 + 4*x[1]**2 - x[0]*x[1] - 4*x[0] + 3)"
   ]
  },
  {
   "cell_type": "code",
   "execution_count": 16,
   "metadata": {},
   "outputs": [
    {
     "name": "stdout",
     "output_type": "stream",
     "text": [
      "Local minimum found after 102601 iterations.\n",
      "Input of [2.133 0.267] gives output of -1.26666600000034\n"
     ]
    }
   ],
   "source": [
    "init_guess = [5, 100]\n",
    "jump_size = 0.001\n",
    "max_iter = 1000000\n",
    "n_iter = 0\n",
    "\n",
    "search = True\n",
    "\n",
    "x = init_guess\n",
    "while search:\n",
    "    n_iter += 1\n",
    "  \n",
    "    # Generate our new guesses\n",
    "    left_x = np.asarray((x[0] - jump_size, x[1]))\n",
    "    right_x = np.asarray((x[0] + jump_size, x[1]))\n",
    "    up_x = np.asarray((x[0], x[1]  + jump_size))\n",
    "    down_x = np.asarray((x[0], x[1]  - jump_size))\n",
    "    \n",
    "    # Jump to the best guess.\n",
    "    guesses = np.asarray((x, left_x, right_x, up_x, down_x))\n",
    "    results = np.asarray((func_2(x), func_2(left_x), func_2(right_x), func_2(up_x), func_2(down_x)))\n",
    "    if np.argmin(results) == 0:\n",
    "        # The current guess is our best position! \n",
    "        search = False\n",
    "        success = True\n",
    "    else:\n",
    "        x = guesses[np.argmin(results)]\n",
    "    if n_iter >= max_iter:\n",
    "        search = False\n",
    "        success = False\n",
    "    \n",
    "if success:\n",
    "    print('Local minimum found after ' + str(n_iter) + ' iterations.')\n",
    "    print('Input of ' + str(x) + ' gives output of ' + str(func_2(x)))\n",
    "else:\n",
    "    print('We were unable to find the local minimum!')\n",
    "    print('Best guess: an input of ' + str(x) + ' gives output of ' + str(func_2(x)))   "
   ]
  },
  {
   "cell_type": "markdown",
   "metadata": {},
   "source": [
    "**Homework**:\n",
    "\n",
    "Have a look at the [wikipedia implementation](https://en.wikipedia.org/wiki/Gradient_descent#Python) of a gradient descent - it uses the actual function derivative and 'jumps' in proportion to the size of the gradient. Write your own func_2 (and derivative ) and implement the wikipedia descent!"
   ]
  },
  {
   "cell_type": "markdown",
   "metadata": {},
   "source": [
    "## Writing a SCIPY Wrapper\n",
    "Writing a scipy wrapper for a curve fitting function. Here we will implement the scipy.optimize.leasts_quares method to find the curve parameters that best fit our data. Although we could use curve_fit, doing things this way allows us to specify the equation of our curve arbitrarily - we don't have to fit to one of the common functions (eg exponential, log, lorentzian) available in the curve_fit library.\n",
    "\n",
    "We will be making use of the \\*\\*kwargs variable, which allows us to pass variables through nested functions without needing to explicitly pack and unpack them at every level.\n",
    "\n",
    "BEFORE going through this section, be sure to read the [least_squares](https://docs.scipy.org/doc/scipy/reference/generated/scipy.optimize.least_squares.html) man page"
   ]
  },
  {
   "cell_type": "code",
   "execution_count": 21,
   "metadata": {},
   "outputs": [],
   "source": [
    "## Defining our curve equation (can be as janky as you like, as long as it will NEVER return a NaN...)\n",
    "def curve(x, b):\n",
    "    y = x*b - b**2*x + np.exp(x-b)\n",
    "    return (y)"
   ]
  },
  {
   "cell_type": "code",
   "execution_count": 18,
   "metadata": {},
   "outputs": [],
   "source": [
    "## Definining our SCIPY wrapper for the curve function\n",
    "def curve_wrapper(b_guess, **kwargs):\n",
    "    # kwargs should contain our x and y DATA, which we would use to evaluate how good our guess of b is\n",
    "    x = kwargs.get('x')\n",
    "    y = kwargs.get('y')\n",
    "    \n",
    "    # Calculate the residuals; difference between our guess-curve's output and the actual output;\n",
    "    residuals = curve(x, b_guess) - y\n",
    "    return residuals"
   ]
  },
  {
   "cell_type": "code",
   "execution_count": 23,
   "metadata": {},
   "outputs": [
    {
     "name": "stdout",
     "output_type": "stream",
     "text": [
      "Guess for b is [5.]\n"
     ]
    },
    {
     "data": {
      "text/plain": [
       "<matplotlib.collections.PathCollection at 0x1ef86183ef0>"
      ]
     },
     "execution_count": 23,
     "metadata": {},
     "output_type": "execute_result"
    },
    {
     "data": {
      "image/png": "[encoded data removed]",
      "text/plain": [
       "<Figure size 432x288 with 1 Axes>"
      ]
     },
     "metadata": {},
     "output_type": "display_data"
    }
   ],
   "source": [
    "## Implementing a SCIPY fitting routine\n",
    "# Generate some x and y data first\n",
    "b_true = 2\n",
    "x = np.linspace(-5,5,100)\n",
    "y = curve(x, b_true)\n",
    "# Get scipy to guess what our value of 'b' was, given only the x and y data\n",
    "# Generate the kwargs dictionary to be passed through the optimisation function.\n",
    "kwargs = {\n",
    "    \"x\":x,\n",
    "    \"y\":y\n",
    "}\n",
    "b_guess = scipy.optimize.least_squares(curve_wrapper, x0=1, bounds=(-100,100), kwargs=kwargs).x\n",
    "print('Guess for b is ' + str(b_guess))\n",
    "\n",
    "# Plot the output\n",
    "plt.figure()\n",
    "plt.plot(x, curve(x, b_guess), 'r')\n",
    "plt.scatter(x,y)"
   ]
  },
  {
   "cell_type": "markdown",
   "metadata": {},
   "source": [
    "**Homework**:\n",
    "\n",
    "Add some random noise to the initial data and see how the curve fit performs!"
   ]
  },
  {
   "cell_type": "code",
   "execution_count": null,
   "metadata": {},
   "outputs": [],
   "source": []
  },
  {
   "cell_type": "code",
   "execution_count": null,
   "metadata": {},
   "outputs": [],
   "source": []
  }
 ],
 "metadata": {
  "kernelspec": {
   "display_name": "Python 3",
   "language": "python",
   "name": "python3"
  },
  "language_info": {
   "codemirror_mode": {
    "name": "ipython",
    "version": 3
   },
   "file_extension": ".py",
   "mimetype": "text/x-python",
   "name": "python",
   "nbconvert_exporter": "python",
   "pygments_lexer": "ipython3",
   "version": "3.6.5"
  }
 },
 "nbformat": 4,
 "nbformat_minor": 2
}
